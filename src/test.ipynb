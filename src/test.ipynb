{
 "cells": [
  {
   "cell_type": "code",
   "execution_count": 5,
   "source": [
    "import os\r\n",
    "import random\r\n",
    "import re\r\n",
    "import jieba\r\n",
    "import warnings\r\n",
    "from gensim.models import KeyedVectors\r\n",
    "import matplotlib.pyplot as plt\r\n",
    "import numpy as np\r\n",
    "from keras.preprocessing.sequence import pad_sequences\r\n",
    "from sklearn.model_selection import train_test_split\r\n",
    "from keras.models import Sequential\r\n",
    "from keras.layers import *\r\n",
    "from keras.optimizers import *\r\n",
    "from keras.utils import plot_model\r\n",
    "from keras.callbacks import EarlyStopping, ModelCheckpoint, TensorBoard, ReduceLROnPlateau"
   ],
   "outputs": [],
   "metadata": {}
  },
  {
   "cell_type": "code",
   "execution_count": 11,
   "source": [
    "os.chdir('D:\\\\corpus')\r\n",
    "os.environ['TF_CPP_MIN_LOG_LEVEL'] = '2'\r\n",
    "warnings.filterwarnings(action='ignore', category=UserWarning, module='gensim')\r\n",
    "\r\n",
    "'''\r\n",
    "part-0: 调整超参数\r\n",
    "'''\r\n",
    "my_lr = 1e-2\r\n",
    "my_test_size = 0.1\r\n",
    "my_validation_split = 0.1\r\n",
    "my_epochs = 3 #40\r\n",
    "my_batch_size = 128\r\n",
    "my_dropout = 0.2\r\n",
    "\r\n",
    "my_optimizer = Nadam(lr=my_lr)\r\n",
    "my_loss = 'binary_crossentropy'"
   ],
   "outputs": [],
   "metadata": {}
  },
  {
   "cell_type": "code",
   "execution_count": 12,
   "source": [
    "'''\r\n",
    "part-A: 数据探索\r\n",
    "'''\r\n",
    "print('\\npart-A: 数据探索')\r\n",
    "\r\n",
    "# 将已经分类好的每条评论的路径放进列表\r\n",
    "pos_txts = os.listdir('res\\\\datanew\\\\pos')\r\n",
    "neg_txts = os.listdir('res\\\\datanew\\\\neg')\r\n",
    "\r\n",
    "# print('num of pos: {0}'.format(len(pos_txts))) # pos样本个数 2000\r\n",
    "# print('num of neg: {0}'.format(len(neg_txts))) # neg样本个数 2000\r\n",
    "\r\n",
    "# # 随机展示5条pos文本\r\n",
    "# pos_samples = random.sample(pos_txts, 5)\r\n",
    "# for item in pos_samples:\r\n",
    "#     with open(os.path.join('res\\\\datanew\\\\pos', item), 'r', encoding='utf-8') as f:\r\n",
    "#         s = f.read()\r\n",
    "#         print(item)\r\n",
    "#         print(s)\r\n",
    "\r\n",
    "# 将所有的评论内容放置到一个list里，列表中的每个元素是一条评论\r\n",
    "train_texts_orig = [] \r\n",
    "for i in range(len(pos_txts)):\r\n",
    "    with open('res\\\\datanew\\\\pos\\\\'+pos_txts[i], 'r', errors='ignore', encoding='UTF-8') as f:\r\n",
    "        text = f.read().strip()\r\n",
    "        train_texts_orig.append(text)\r\n",
    "        f.close()\r\n",
    "for i in range(len(neg_txts)):\r\n",
    "    with open('res\\\\datanew\\\\neg\\\\'+neg_txts[i], 'r', errors='ignore', encoding='UTF-8') as f:\r\n",
    "        text = f.read().strip()\r\n",
    "        train_texts_orig.append(text)\r\n",
    "        f.close()\r\n",
    "# print('num of all in list: {0}'.format(len(train_texts_orig))) # list长度 4000"
   ],
   "outputs": [
    {
     "output_type": "stream",
     "name": "stdout",
     "text": [
      "\n",
      "part-A: 数据探索\n"
     ]
    }
   ],
   "metadata": {}
  },
  {
   "cell_type": "code",
   "execution_count": 13,
   "source": [
    "\r\n",
    "'''\r\n",
    "part-B: 数据预处理-分词\r\n",
    "'''\r\n",
    "print('\\npart-B: 数据预处理-分词')\r\n",
    "\r\n",
    "# 使用gensim加载已经训练好的汉语词向量#sgns.zhihu.bigram.bz2\r\n",
    "cn_model = KeyedVectors.load_word2vec_format('res\\\\word-vector\\\\sgns.zhihu.bigram.bz2', binary=False)\r\n",
    "\r\n",
    "# 用jieba进行中文分词，最后将每条评论转换为了词索引的列表\r\n",
    "train_tokens = []\r\n",
    "for text in train_texts_orig:\r\n",
    "    # 分词前去掉标点和特殊符号\r\n",
    "    text = re.sub(\"[\\s+\\.\\!\\/_,-|$%^*(+\\\"\\')]+|[+——！，； 。？ 、~@#￥%……&*（）]+\", \"\", text)\r\n",
    "    cut = jieba.cut(text)\r\n",
    "    cut_list = [i for i in cut]\r\n",
    "    for i, word in enumerate(cut_list):\r\n",
    "        try:\r\n",
    "            # 将分出来的每个词转换为词向量中的对应索引\r\n",
    "            cut_list[i] = cn_model.key_to_index[word]\r\n",
    "        except KeyError:\r\n",
    "            # 如果词不在词向量中，则索引标记为0\r\n",
    "            cut_list[i] = 0\r\n",
    "    train_tokens.append(cut_list)\r\n",
    "print('num of train_tokens: {0}'.format(len(train_tokens))) # 4000"
   ],
   "outputs": [
    {
     "output_type": "stream",
     "name": "stdout",
     "text": [
      "\n",
      "part-B: 数据预处理-分词\n"
     ]
    },
    {
     "output_type": "stream",
     "name": "stderr",
     "text": [
      "Building prefix dict from the default dictionary ...\n",
      "Dumping model to file cache C:\\Users\\user27\\AppData\\Local\\Temp\\jieba.cache\n",
      "Loading model cost 0.944 seconds.\n",
      "Prefix dict has been built successfully.\n"
     ]
    },
    {
     "output_type": "stream",
     "name": "stdout",
     "text": [
      "num of train_tokens: 4000\n"
     ]
    }
   ],
   "metadata": {}
  },
  {
   "cell_type": "code",
   "execution_count": null,
   "source": [
    "import pandas as pd\r\n",
    "path='D:\\\\Github\\\\Chinese-corpus-sentiment-data-analysis\\\\data.csv'\r\n",
    "#通过open操作中转一下（应该是转换成python内置的文件流了）\r\n",
    "o=open(path,'rb')\r\n",
    "f=pd.read_csv(o)\r\n",
    "o.close\r\n",
    "f\r\n",
    "f.shape\r\n",
    "list(f[\"内容\"])"
   ],
   "outputs": [],
   "metadata": {}
  },
  {
   "cell_type": "code",
   "execution_count": 14,
   "source": [
    "'''\r\n",
    "part-C: 数据预处理-索引化\r\n",
    "'''\r\n",
    "print('\\npart-C: 数据预处理-索引化')\r\n",
    "\r\n",
    "# 获得每条评论的长度，即分词后词语的个数，并将列表转换为ndarray格式\r\n",
    "num_tokens = [len(tokens) for tokens in train_tokens]\r\n",
    "num_tokens = np.array(num_tokens)\r\n",
    "\r\n",
    "# print('max-len of train_tokens: {0}'.format(np.max(num_tokens)))  # 最长评价的长度 1438\r\n",
    "# print('mean-len of train_tokens: {0}'.format(np.mean(num_tokens)))  # 平均评论的长度 68.77625\r\n",
    "\r\n",
    "# # 绘制评论长度直方图\r\n",
    "# plt.hist(np.log(num_tokens), bins = 100)\r\n",
    "# plt.xlim((0,10))\r\n",
    "# plt.ylabel('num of train_tokens')\r\n",
    "# plt.xlabel('len of train_tokens')\r\n",
    "# plt.show()\r\n",
    "\r\n",
    "# 每段评语的长度不一，需要将索引长度标准化\r\n",
    "mid_tokens = np.mean(num_tokens) + 2 * np.std(num_tokens)\r\n",
    "mid_tokens = int(mid_tokens)\r\n",
    "rate = np.sum( num_tokens < mid_tokens ) / len(num_tokens)\r\n",
    "# print('selected mid-len of train_tokens: {0}'.format(mid_tokens)) # 选取一个平均值，尽可能多的覆盖\r\n",
    "# print('cover rate: {0}'.format(rate)) # 覆盖率"
   ],
   "outputs": [
    {
     "output_type": "stream",
     "name": "stdout",
     "text": [
      "\n",
      "part-C: 数据预处理-索引化\n"
     ]
    }
   ],
   "metadata": {}
  },
  {
   "cell_type": "code",
   "execution_count": 16,
   "source": [
    "'''\r\n",
    "part-D: 数据预处理-重新构建词向量\r\n",
    "'''\r\n",
    "print('\\npart-D: 数据预处理-重新构建词向量')\r\n",
    "\r\n",
    "# print('num of vector: {0}'.format(len(cut_list))) # 预训练的词向量词汇数\r\n",
    "\r\n",
    "# 为了节省训练时间，抽取前50000个词构建新的词向量\r\n",
    "num_words = 50000 \r\n",
    "embedding_dim = 300\r\n",
    "\r\n",
    "# 初始化embedding_matrix，之后在keras上进行应用\r\n",
    "# embedding_matrix为一个 [num_words，embedding_dim] 的矩阵，维度为 50000 * 300\r\n",
    "embedding_matrix = np.zeros((num_words, embedding_dim))\r\n",
    "for i in range(num_words):\r\n",
    "    embedding_matrix[i,:] = cn_model[cn_model.index_to_key[i]]\r\n",
    "embedding_matrix = embedding_matrix.astype('float32')\r\n",
    "\r\n",
    "# # 检查新构建的词向量与预训练的词向量index是否对应\r\n",
    "# print(cn_model[cn_model.index_to_key[10]])\r\n",
    "# print(embedding_matrix[10])\r\n",
    "# np.sum(cn_model[cn_model.index_to_key[10]] == embedding_matrix[10] ) # 300\r\n",
    "\r\n",
    "# 新建词向量的维度，keras会用到\r\n",
    "embedding_matrix.shape # (50000, 300)\r\n",
    "\r\n",
    "\r\n"
   ],
   "outputs": [
    {
     "output_type": "stream",
     "name": "stdout",
     "text": [
      "\n",
      "part-D: 数据预处理-重新构建词向量\n"
     ]
    },
    {
     "output_type": "execute_result",
     "data": {
      "text/plain": [
       "(50000, 300)"
      ]
     },
     "metadata": {},
     "execution_count": 16
    }
   ],
   "metadata": {}
  },
  {
   "cell_type": "code",
   "execution_count": 17,
   "source": [
    "'''\r\n",
    "part-E: 数据预处理-填充与裁剪\r\n",
    "'''\r\n",
    "print('\\npart-E: 数据预处理-填充与裁剪')\r\n",
    "\r\n",
    "# 输入的train_tokens是一个list，返回的train_pad是一个numpy array，采用pre填充的方式\r\n",
    "train_pad = pad_sequences(train_tokens, maxlen=mid_tokens, padding='pre', truncating='pre')\r\n",
    "\r\n",
    "# 超出五万个词向量的词用0代替\r\n",
    "train_pad[train_pad>=num_words] = 0\r\n",
    "\r\n",
    "# 准备实际输出结果向量向量，前2000好评的样本设为1，后2000差评样本设为0\r\n",
    "train_target = np.concatenate((np.ones(2000),np.zeros(2000)))"
   ],
   "outputs": [
    {
     "output_type": "stream",
     "name": "stdout",
     "text": [
      "\n",
      "part-E: 数据预处理-填充与裁剪\n"
     ]
    }
   ],
   "metadata": {}
  },
  {
   "cell_type": "code",
   "execution_count": 18,
   "source": [
    "'''\r\n",
    "part-F: 训练\r\n",
    "'''\r\n",
    "print('\\npart-F: 训练')\r\n",
    "\r\n",
    "# 用sklearn分割训练集、测试集\r\n",
    "X_train, X_test, y_train, y_test = train_test_split(train_pad, train_target, test_size=my_test_size, random_state=12)\r\n",
    "\r\n",
    "# # 查看训练样本\r\n",
    "# # 用索引反向生成语句，索引为零的标记为空格字符\r\n",
    "# def reverse_tokens(tokens):\r\n",
    "#     text = ''\r\n",
    "#     for i in tokens:\r\n",
    "#         if i != 0:\r\n",
    "#             text = text + cn_model.index_to_key[i]\r\n",
    "#         else:\r\n",
    "#             text = text + ' '\r\n",
    "#     return text\r\n",
    "# print(reverse_tokens(X_train[66]))\r\n",
    "# print('pred: ',y_train[66])\r\n",
    "\r\n",
    "# 搭建神经网络\r\n",
    "model = Sequential()\r\n",
    "\r\n",
    "model.add(Embedding(num_words, embedding_dim, weights=[embedding_matrix], input_length=mid_tokens, trainable=False))\r\n",
    "model.add(Bidirectional(LSTM(units=32, dropout=my_dropout, return_sequences=True)))\r\n",
    "model.add(LSTM(units=16, dropout=my_dropout, return_sequences=False))\r\n",
    "model.add(Dense(1, activation='sigmoid'))\r\n",
    "\r\n",
    "model.compile(loss=my_loss, optimizer=my_optimizer, metrics=['accuracy'])\r\n",
    "\r\n",
    "# # 查看模型的结构\r\n",
    "model.summary()\r\n"
   ],
   "outputs": [
    {
     "output_type": "stream",
     "name": "stdout",
     "text": [
      "\n",
      "part-F: 训练\n",
      "Model: \"sequential_1\"\n",
      "_________________________________________________________________\n",
      "Layer (type)                 Output Shape              Param #   \n",
      "=================================================================\n",
      "embedding_1 (Embedding)      (None, 227, 300)          15000000  \n",
      "_________________________________________________________________\n",
      "bidirectional_1 (Bidirection (None, 227, 64)           85248     \n",
      "_________________________________________________________________\n",
      "lstm_2 (LSTM)                (None, 16)                5184      \n",
      "_________________________________________________________________\n",
      "dense_1 (Dense)              (None, 1)                 17        \n",
      "=================================================================\n",
      "Total params: 15,090,449\n",
      "Trainable params: 90,449\n",
      "Non-trainable params: 15,000,000\n",
      "_________________________________________________________________\n"
     ]
    }
   ],
   "metadata": {}
  },
  {
   "cell_type": "code",
   "execution_count": 19,
   "source": [
    "'''\r\n",
    "part-G: 调试\r\n",
    "'''\r\n",
    "print('\\npart-G: 调试')\r\n",
    "\r\n",
    "# 建立一个权重的存储点，保存训练中的最好模型\r\n",
    "path_checkpoint = 'tmp\\\\weights.hdf5'\r\n",
    "checkpointer = ModelCheckpoint(filepath=path_checkpoint, monitor='val_loss' , verbose=1 , save_weights_only=True , save_best_only=True)\r\n",
    "\r\n",
    "# # 尝试加载已训练模型\r\n",
    "# try:\r\n",
    "#     model.load_weights(path_checkpoint)\r\n",
    "# except Exception as e:\r\n",
    "#     print(e)\r\n",
    "\r\n",
    "# 定义early stoping如果3个epoch内validation loss没有改善则停止训练\r\n",
    "earlystopping = EarlyStopping(monitor='val_loss', patience=3, verbose=1)\r\n",
    "\r\n",
    "# 自动降低learning rate\r\n",
    "lr_reduction = ReduceLROnPlateau(monitor='val_loss', factor=0.1, min_lr=1e-5, patience=0, verbose=1)\r\n",
    "\r\n",
    "# 定义callback函数\r\n",
    "callbacks = [earlystopping, checkpointer, lr_reduction]\r\n",
    "\r\n",
    "# 开始训练\r\n",
    "history = model.fit(X_train, y_train, validation_split=my_validation_split, epochs=my_epochs, batch_size=my_batch_size, callbacks=callbacks)\r\n",
    "\r\n",
    "# 模型可视化-历史\r\n",
    "plt.figure(figsize=(11, 4))\r\n",
    "\r\n",
    "plt.figure(1)\r\n",
    "plt.subplot(1, 2, 1)\r\n",
    "plt.plot(history.history['accuracy'])\r\n",
    "plt.plot(history.history['val_accuracy'])\r\n",
    "plt.title('Model accuracy')\r\n",
    "plt.ylabel('Accuracy')\r\n",
    "plt.xlabel('Epoch')\r\n",
    "plt.legend(['Training', 'validation'])\r\n",
    "\r\n",
    "plt.figure(1)\r\n",
    "plt.subplot(1, 2, 2)\r\n",
    "plt.plot(history.history['loss'])\r\n",
    "plt.plot(history.history['val_loss'])\r\n",
    "plt.title('Model loss')\r\n",
    "plt.ylabel('Loss')\r\n",
    "plt.xlabel('Epoch')\r\n",
    "plt.legend(['Training', 'validation'])\r\n",
    "\r\n",
    "plt.show()"
   ],
   "outputs": [
    {
     "output_type": "stream",
     "name": "stdout",
     "text": [
      "\n",
      "part-G: 调试\n",
      "Train on 3240 samples, validate on 360 samples\n",
      "Epoch 1/3\n",
      "3240/3240 [==============================] - 21s 6ms/step - loss: 0.6285 - accuracy: 0.6429 - val_loss: 0.5642 - val_accuracy: 0.7194\n",
      "\n",
      "Epoch 00001: val_loss improved from inf to 0.56422, saving model to tmp\\weights.hdf5\n",
      "Epoch 2/3\n",
      "3240/3240 [==============================] - 18s 6ms/step - loss: 0.4252 - accuracy: 0.8164 - val_loss: 0.3204 - val_accuracy: 0.8833\n",
      "\n",
      "Epoch 00002: val_loss improved from 0.56422 to 0.32040, saving model to tmp\\weights.hdf5\n",
      "Epoch 3/3\n",
      "3240/3240 [==============================] - 18s 6ms/step - loss: 0.3147 - accuracy: 0.8756 - val_loss: 0.2822 - val_accuracy: 0.8917\n",
      "\n",
      "Epoch 00003: val_loss improved from 0.32040 to 0.28218, saving model to tmp\\weights.hdf5\n"
     ]
    },
    {
     "output_type": "display_data",
     "data": {
      "text/plain": [
       "<Figure size 792x288 with 2 Axes>"
      ],
      "image/png": "[encoded data removed]"
     },
     "metadata": {}
    }
   ],
   "metadata": {}
  },
  {
   "cell_type": "code",
   "execution_count": 23,
   "source": [
    "# 模型可视化-RNN\r\n",
    "#plot_model(model, show_shapes=True, show_layer_names=True, to_file='tmp\\\\model.png')\r\n",
    "\r\n",
    "# 模型评估-准确率\r\n",
    "result = model.evaluate(X_test, y_test, verbose=0)\r\n",
    "print('Loss: {0:.4}'.format(result[0]))\r\n",
    "print('Accuracy: {0:.4%}'.format(result[1]))\r\n"
   ],
   "outputs": [
    {
     "output_type": "stream",
     "name": "stdout",
     "text": [
      "Loss: 0.3275\n",
      "Accuracy: 87.5000%\n"
     ]
    }
   ],
   "metadata": {}
  }
 ],
 "metadata": {
  "kernelspec": {
   "display_name": "Python 3",
   "language": "python",
   "name": "python3"
  },
  "language_info": {
   "codemirror_mode": {
    "name": "ipython",
    "version": 3
   },
   "file_extension": ".py",
   "mimetype": "text/x-python",
   "name": "python",
   "nbconvert_exporter": "python",
   "pygments_lexer": "ipython3",
   "version": "3.7.6"
  }
 },
 "nbformat": 4,
 "nbformat_minor": 4
}